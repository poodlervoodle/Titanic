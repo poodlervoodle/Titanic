{
 "cells": [
  {
   "cell_type": "code",
   "execution_count": 113,
   "metadata": {},
   "outputs": [],
   "source": [
    "import numpy as np\n",
    "import pandas as pd\n",
    "from numpy import log2 as log\n",
    "eps = np.finfo(float).eps\n",
    "t_data = pd.read_csv(\"./dataset/train.csv\")"
   ]
  },
  {
   "cell_type": "code",
   "execution_count": 107,
   "metadata": {},
   "outputs": [],
   "source": [
    "t_data = t_data.drop(['Name', 'Ticket', 'Cabin'], axis = 1)\n",
    "t_data = t_data.dropna()"
   ]
  },
  {
   "cell_type": "code",
   "execution_count": 116,
   "metadata": {},
   "outputs": [],
   "source": [
    "t_data['Age'] = t_data['Age'].interpolate() #fixing missing values of age"
   ]
  },
  {
   "cell_type": "code",
   "execution_count": 117,
   "metadata": {},
   "outputs": [
    {
     "name": "stdout",
     "output_type": "stream",
     "text": [
      "0.9607079018756469\n"
     ]
    }
   ],
   "source": [
    "#Entropy of the entire dataset\n",
    "entropy = 0\n",
    "values = t_data['Survived'].unique()\n",
    "for value in values:\n",
    "    p = t_data['Survived'].value_counts()[value]/len(t_data.Survived)\n",
    "    entropy = entropy + (-(p*log(p)))\n",
    "print(entropy)"
   ]
  },
  {
   "cell_type": "code",
   "execution_count": 118,
   "metadata": {},
   "outputs": [],
   "source": [
    "def attribute_entropy(col):\n",
    "    y = t_data['Survived'].unique()\n",
    "    x = t_data[col].unique()\n",
    "    entropy = 0\n",
    "    for i in x:\n",
    "        e = 0\n",
    "        for j in y:\n",
    "            num = len(t_data[col][t_data[col] == i][t_data['Survived'] == j])\n",
    "            den = len(t_data[col][t_data[col] == i])\n",
    "            p = num/(den+eps)\n",
    "            e = e + (-(p*log(p+eps)))\n",
    "        p2 = den/len(t_data)\n",
    "        entropy = entropy + (-(p2*e))\n",
    "    return abs(entropy)"
   ]
  },
  {
   "cell_type": "code",
   "execution_count": 119,
   "metadata": {},
   "outputs": [
    {
     "name": "stdout",
     "output_type": "stream",
     "text": [
      "0.7821194301841937\n"
     ]
    }
   ],
   "source": [
    "print(attribute_entropy('Age'))"
   ]
  },
  {
   "cell_type": "code",
   "execution_count": null,
   "metadata": {},
   "outputs": [],
   "source": []
  }
 ],
 "metadata": {
  "kernelspec": {
   "display_name": "Python 3",
   "language": "python",
   "name": "python3"
  },
  "language_info": {
   "codemirror_mode": {
    "name": "ipython",
    "version": 3
   },
   "file_extension": ".py",
   "mimetype": "text/x-python",
   "name": "python",
   "nbconvert_exporter": "python",
   "pygments_lexer": "ipython3",
   "version": "3.7.4"
  }
 },
 "nbformat": 4,
 "nbformat_minor": 2
}
